{
 "cells": [
  {
   "cell_type": "code",
   "execution_count": 25,
   "metadata": {},
   "outputs": [],
   "source": [
    "import json\n",
    "from pymongo import MongoClient\n",
    "\n",
    "# Load secrets.json safely\n",
    "with open('secrets.json') as f:\n",
    "    secrets = json.load(f)\n"
   ]
  },
  {
   "cell_type": "code",
   "execution_count": 26,
   "metadata": {},
   "outputs": [
    {
     "name": "stdout",
     "output_type": "stream",
     "text": [
      "The MongoDB connection string is 75 characters long.\n"
     ]
    }
   ],
   "source": [
    "# Extract the MongoDB connection string\n",
    "mongo_connection_string = secrets['mongodb']\n",
    "\n",
    "# Initialize MongoDB client using the connection string\n",
    "client = MongoClient(mongo_connection_string)\n",
    "\n",
    "# Access the 'Data320' database and 'IMDB(flawed)' collection\n",
    "db = client['Data320']\n",
    "imdb_collection = db['IMDB(flawed)']\n",
    "\n",
    "# Fetch a sample of movies to confirm the connection\n",
    "sample_movies = list(imdb_collection.find().limit(5))\n",
    "for movie in sample_movies:\n",
    "    print(movie)\n",
    "\n",
    "# Safe output: Display the length of the connection string\n",
    "print(f\"The MongoDB connection string is {len(mongo_connection_string)} characters long.\")"
   ]
  },
  {
   "cell_type": "code",
   "execution_count": 27,
   "metadata": {},
   "outputs": [
    {
     "name": "stdout",
     "output_type": "stream",
     "text": [
      "This database has the collections: ['Metacritic', 'IMDB(flawed)']\n"
     ]
    }
   ],
   "source": [
    "# Connect to the 'IMDB' database (corrected)\n",
    "my_database = client['IMDB']\n",
    "\n",
    "# List all collections within the 'IMDB' database\n",
    "all_collections = my_database.list_collection_names()\n",
    "print(f\"This database has the collections: {all_collections}\")"
   ]
  },
  {
   "cell_type": "code",
   "execution_count": 28,
   "metadata": {},
   "outputs": [
    {
     "name": "stdout",
     "output_type": "stream",
     "text": [
      "{'_id': ObjectId('670dd57c93c8bf25ee148e95'), 'id': 77631, 'title': 'Grease', 'runtime': 110, 'user_rating': 7.2, 'votes': 265183, 'mpaa_rating': 'TV-14::(D)', 'release_date': '6/13/1978', 'budget': 6000000, 'opening_weekend': 60759, 'gross_sales': 394955690, 'genres': 'Comedy, Musical, Romance', 'cast': 'John Travolta, Olivia Newton-John, Stockard Channing, Jeff Conaway, Barry Pearl, Michael Tucci, Kelly Ward, Didi Conn, Jamie Donnelly, Dinah Manoff', 'director': 'Randal Kleiser', 'producer': 'Allan Carr, Neil A. Machlis, Robert Stigwood', 'company': 'Paramount Pictures, Robert Stigwood Organization, Allan Carr Production'}\n",
      "{'_id': ObjectId('670dd57c93c8bf25ee148e96'), 'id': 78346, 'title': 'Superman', 'runtime': 143, 'user_rating': 7.4, 'votes': 172769, 'mpaa_rating': 'TV-PG::(LV)', 'release_date': '12/10/1978', 'budget': 55000000, 'opening_weekend': 7465343, 'gross_sales': 166200000, 'genres': 'Action, Adventure, Sci-Fi', 'cast': \"Marlon Brando, Gene Hackman, Christopher Reeve, Ned Beatty, Jackie Cooper, Glenn Ford, Trevor Howard, Margot Kidder, Jack O'Halloran, Valerie Perrine\", 'director': 'Richard Donner', 'producer': 'Charles Greenlaw, Richard Lester, Alexander Salkind, Ilya Salkind, Pierre Spengler', 'company': 'Dovemead Films, Film Export A.G., International Film Production'}\n",
      "{'_id': ObjectId('670dd57c93c8bf25ee148e97'), 'id': 77416, 'title': 'The Deer Hunter', 'runtime': 183, 'user_rating': 8.1, 'votes': 334827, 'mpaa_rating': 'R', 'release_date': '12/8/1978', 'budget': 15000000, 'opening_weekend': None, 'gross_sales': None, 'genres': 'Drama, War', 'cast': 'Robert De Niro, John Cazale, John Savage, Christopher Walken, Meryl Streep, George Dzundza, Chuck Aspegren, Shirley Stoler, Rutanya Alda, Pierre Segui', 'director': 'Michael Cimino', 'producer': 'Joann Carelli, Michael Cimino, Michael Deeley, John Peverall, Marion Rosenberg', 'company': 'EMI Films, Universal Pictures'}\n",
      "{'_id': ObjectId('670dd57c93c8bf25ee148e98'), 'id': 77651, 'title': 'Halloween', 'runtime': 91, 'user_rating': 7.7, 'votes': 267109, 'mpaa_rating': 'TV-14', 'release_date': '10/25/1978', 'budget': 300000, 'opening_weekend': None, 'gross_sales': 70000000, 'genres': 'Horror, Thriller', 'cast': 'Donald Pleasence, Jamie Lee Curtis, Nancy Kyes, P.J. Soles, Charles Cyphers, Kyle Richards, Brian Andrews, John Michael Graham, Nancy Stephens, Arthur Malet', 'director': 'John Carpenter', 'producer': 'Moustapha Akkad, John Carpenter, Debra Hill, Kool Marder, Irwin Yablans', 'company': 'Compass International Pictures, Falcon International Pictures, Falcon International Productions'}\n",
      "{'_id': ObjectId('670dd57c93c8bf25ee148e99'), 'id': 77975, 'title': \"National Lampoon's Animal House\", 'runtime': 109, 'user_rating': 7.4, 'votes': 119917, 'mpaa_rating': 'TV-14::(DLSV, TV Rating.)', 'release_date': '7/27/1978', 'budget': 3000000, 'opening_weekend': 201747, 'gross_sales': 3371006, 'genres': 'Comedy', 'cast': 'Tom Hulce, Stephen Furst, Mark Metcalf, Mary Louise Weller, Martha Smith, James Daughton, Kevin Bacon, John Belushi, Douglas Kenney, Chris Miller', 'director': 'John Landis', 'producer': 'Ivan Reitman, Matty Simmons', 'company': 'Universal Pictures, Oregon Film Factory, Stage III Productions, National Lampoon'}\n"
     ]
    }
   ],
   "source": [
    "# Connect to the 'IMDB(flawed)' collection\n",
    "imdb_collection = my_database['IMDB(flawed)']\n",
    "\n",
    "# Fetch a sample of movies to confirm the connection\n",
    "sample_movies = list(imdb_collection.find().limit(5))\n",
    "\n",
    "# Display the sample movies\n",
    "for movie in sample_movies:\n",
    "    print(movie)"
   ]
  },
  {
   "cell_type": "code",
   "execution_count": 29,
   "metadata": {},
   "outputs": [
    {
     "name": "stdout",
     "output_type": "stream",
     "text": [
      "  _id                        id    title                             runtime  user_rating  votes  mpaa_rating                release_date  budget      opening_weekend  gross_sales genres                     cast                                               director        producer                                           company                                           \n",
      "0  670dd57c93c8bf25ee148e95  77631                           Grease  110.0    7.2          265183                 TV-14::(D)   6/13/1978    6000000.0    60759.0        394955690.0   Comedy, Musical, Romance  John Travolta, Olivia Newton-John, Stockard Ch...  Randal Kleiser       Allan Carr, Neil A. Machlis, Robert Stigwood  Paramount Pictures, Robert Stigwood Organizati...\n",
      "1  670dd57c93c8bf25ee148e96  78346                         Superman  143.0    7.4          172769                TV-PG::(LV)  12/10/1978   55000000.0  7465343.0        166200000.0  Action, Adventure, Sci-Fi  Marlon Brando, Gene Hackman, Christopher Reeve...  Richard Donner  Charles Greenlaw, Richard Lester, Alexander Sa...  Dovemead Films, Film Export A.G., Internationa...\n",
      "2  670dd57c93c8bf25ee148e97  77416                  The Deer Hunter  183.0    8.1          334827                          R   12/8/1978   15000000.0        NaN                NaN                 Drama, War  Robert De Niro, John Cazale, John Savage, Chri...  Michael Cimino  Joann Carelli, Michael Cimino, Michael Deeley,...                      EMI Films, Universal Pictures\n",
      "3  670dd57c93c8bf25ee148e98  77651                        Halloween   91.0    7.7          267109                      TV-14  10/25/1978     300000.0        NaN         70000000.0           Horror, Thriller  Donald Pleasence, Jamie Lee Curtis, Nancy Kyes...  John Carpenter  Moustapha Akkad, John Carpenter, Debra Hill, K...  Compass International Pictures, Falcon Interna...\n",
      "4  670dd57c93c8bf25ee148e99  77975  National Lampoon's Animal House  109.0    7.4          119917  TV-14::(DLSV, TV Rating.)   7/27/1978    3000000.0   201747.0          3371006.0                     Comedy  Tom Hulce, Stephen Furst, Mark Metcalf, Mary L...     John Landis                        Ivan Reitman, Matty Simmons  Universal Pictures, Oregon Film Factory, Stage...\n"
     ]
    }
   ],
   "source": [
    "import pandas as pd\n",
    "\n",
    "# Fetch all documents from 'IMDB(flawed)' and convert to DataFrame\n",
    "cursor = imdb_collection.find()\n",
    "imdb_df = pd.DataFrame(cursor)\n",
    "\n",
    "# Display the first few rows to confirm data retrieval\n",
    "print(imdb_df.head())"
   ]
  },
  {
   "cell_type": "code",
   "execution_count": 30,
   "metadata": {},
   "outputs": [],
   "source": [
    "import re\n",
    "import pandas as pd\n",
    "\n",
    "# Specify the year to filter\n",
    "year = 2010\n",
    "\n",
    "# Query the collection for movies from the specified year\n",
    "movies_2010 = list(imdb_collection.find({'release_date': re.compile(str(year))}))\n",
    "\n",
    "# Check if movies were found\n",
    "if not movies_2010:\n",
    "    print(\"No movies found for the specified year.\")\n"
   ]
  },
  {
   "cell_type": "code",
   "execution_count": 31,
   "metadata": {},
   "outputs": [
    {
     "name": "stdout",
     "output_type": "stream",
     "text": [
      "  _id                        id      title                                          runtime  user_rating  votes   mpaa_rating               release_date  budget       opening_weekend  gross_sales  genres                                         cast                                               director           producer                                           company                                           \n",
      "0  670dd58593c8bf25ee14ca20  1196141                          Diary of a Wimpy Kid   94      6.2            49261                TV-PG::(V) 2010-03-18     15000000.0   22126166.0      7.570050e+07                          Comedy, Drama, Family  Zachary Gordon, Robert Capron, Rachael Harris,...   Thor Freudenthal  Nina Jacobson, Jeff Kinney, Brad Simpson, Etha...  Color Force, Dayday Films, Dune Entertainment III\n",
      "1  670dd58593c8bf25ee14ca21  1375666                                     Inception  148      8.8          2282266  TV-14::(DLV, TV Rating.) 2010-07-08    160000000.0   62785337.0      8.255328e+08            Action, Adventure, Sci-Fi, Thriller  Leonardo DiCaprio, Joseph Gordon-Levitt, Ellio...  Christopher Nolan  Zakaria Alaoui, John Bernard, Chris Brigham, J...     Warner Bros., Legendary Entertainment, Syncopy\n",
      "2  670dd58593c8bf25ee14ca26   435761                                   Toy Story 3  103      8.3           818143                         G 2010-06-12    190000000.0  110307189.0      1.068880e+09  Animation, Adventure, Comedy, Family, Fantasy  Tom Hanks, Tim Allen, Joan Cusack, Ned Beatty,...        Lee Unkrich  Darla K. Anderson, John Lasseter, Nicole Parad...      Walt Disney Pictures, Pixar Animation Studios\n",
      "3  670dd58593c8bf25ee14ca27   926084  Harry Potter and the Deathly Hallows: Part 1  146      7.7           534619                     PG-13 2010-11-11    150000000.0          NaN      9.602833e+08            Adventure, Family, Fantasy, Mystery  Bill Nighy, Emma Watson, Richard Griffiths, Ha...        David Yates  David Barron, David Heyman, Tim Lewis, J.K. Ro...                         Warner Bros., Heyday Films\n",
      "4  670dd58593c8bf25ee14ca28  1285016                            The Social Network  120      7.8           686673                     TV-14 2010-09-24     40000000.0   22445653.0      2.249203e+08                               Biography, Drama  Jesse Eisenberg, Rooney Mara, Bryan Barter, Du...      David Fincher  Dana Brunetti, Ceán Chaffin, Jim Davidson, Mic...  Columbia Pictures, Relativity Media, Scott Rud...\n"
     ]
    }
   ],
   "source": [
    "# Convert 'release_date' to datetime\n",
    "imdb_2010_df.loc[:, 'release_date'] = pd.to_datetime(imdb_2010_df['release_date'], errors='coerce')\n",
    "\n",
    "# Convert 'runtime' and 'budget' to numeric\n",
    "imdb_2010_df.loc[:, 'runtime'] = pd.to_numeric(imdb_2010_df['runtime'], errors='coerce')\n",
    "imdb_2010_df.loc[:, 'budget'] = pd.to_numeric(imdb_2010_df['budget'], errors='coerce')\n",
    "\n",
    "# Display the first few rows to confirm data cleansing\n",
    "print(imdb_2010_df.head())"
   ]
  },
  {
   "cell_type": "code",
   "execution_count": 32,
   "metadata": {},
   "outputs": [
    {
     "name": "stdout",
     "output_type": "stream",
     "text": [
      "Movies with the Lowest Runtime in 2010:\n",
      "     title                             runtime  budget release_date\n",
      "727                            Hubble  45      NaN     2010-03-19  \n",
      "988                       Life Cycles  47      NaN     2010-09-21  \n",
      "637       Yu-Gi-Oh! Bonds Beyond Time  49      NaN     2010-01-23  \n",
      "1028  The Lives of Mount Druitt Youth  60      NaN     2010-08-10  \n",
      "961            1915 Armenian Genocide  60      NaN     2010-10-22  \n",
      "\n",
      "Movies with the Highest Runtime in 2010:\n",
      "    title                                             runtime  budget      release_date\n",
      "477                                 Ayirathil Oruvan  183      320000000.0 2010-01-14  \n",
      "796                               Burnt by the Sun 2  181       45000000.0 2010-04-17  \n",
      "610                                           Aurora  181              NaN 2010-05-14  \n",
      "829           The Autobiography of Nicolae Ceausescu  180              NaN 2010-05-18  \n",
      "66   Les Misérables in Concert: The 25th Anniversary  178              NaN 2010-10-03  \n",
      "\n",
      "Movies with the Lowest Budget in 2010:\n",
      "    title                      runtime  budget release_date\n",
      "531                  Ceremony   89         3.0 2010-09-13  \n",
      "538           Aaranya Kaandam  126         5.0 2010-10-30  \n",
      "209  Who Killed Captain Alex?   64       200.0 2010-06-22  \n",
      "856                     Çakal   86       700.0 2010-10-09  \n",
      "978           The Unforgiving   75      5000.0 2010-08-20  \n",
      "\n",
      "Movies with the Highest Budget in 2010:\n",
      "    title              runtime  budget       release_date\n",
      "516       Midnight FM  106      7.000000e+09 2010-10-14  \n",
      "406          Raavanan  128      5.500000e+08 2010-06-18  \n",
      "612    Manmadhan Ambu  152      5.000000e+08 2010-12-23  \n",
      "714      Komaram Puli  163      4.000000e+08 2010-09-10  \n",
      "477  Ayirathil Oruvan  183      3.200000e+08 2010-01-14  \n"
     ]
    }
   ],
   "source": [
    "# Sort by 'runtime' (ascending) to find the lowest runtime movies\n",
    "lowest_runtime = imdb_2010_df.sort_values(by='runtime').head()\n",
    "print(\"Movies with the Lowest Runtime in 2010:\")\n",
    "print(lowest_runtime[['title', 'runtime', 'budget', 'release_date']])\n",
    "\n",
    "# Sort by 'runtime' (descending) to find the highest runtime movies\n",
    "highest_runtime = imdb_2010_df.sort_values(by='runtime', ascending=False).head()\n",
    "print(\"\\nMovies with the Highest Runtime in 2010:\")\n",
    "print(highest_runtime[['title', 'runtime', 'budget', 'release_date']])\n",
    "\n",
    "# Sort by 'budget' (ascending) to find the lowest budget movies\n",
    "lowest_budget = imdb_2010_df.sort_values(by='budget').head()\n",
    "print(\"\\nMovies with the Lowest Budget in 2010:\")\n",
    "print(lowest_budget[['title', 'runtime', 'budget', 'release_date']])\n",
    "\n",
    "# Sort by 'budget' (descending) to find the highest budget movies\n",
    "highest_budget = imdb_2010_df.sort_values(by='budget', ascending=False).head()\n",
    "print(\"\\nMovies with the Highest Budget in 2010:\")\n",
    "print(highest_budget[['title', 'runtime', 'budget', 'release_date']])"
   ]
  },
  {
   "cell_type": "code",
   "execution_count": 33,
   "metadata": {},
   "outputs": [
    {
     "name": "stdout",
     "output_type": "stream",
     "text": [
      "\n",
      "Adjusted Budgets for Identified Movies:\n",
      "    title      budget    release_date\n",
      "284    Poetry     939.25 2010-05-13  \n",
      "301  Enthiran  321100.00 2010-09-30  \n",
      "335     Kites  101400.00 2010-05-21  \n",
      "685       Goa  152100.00 2010-01-29  \n"
     ]
    }
   ],
   "source": [
    "# Define conversion rates for identified movies with high budgets\n",
    "currency_adjustments = {\n",
    "    'Enthiran': 0.013,  # INR to USD\n",
    "    'Poetry': 0.00085,  # KRW to USD (approximate)\n",
    "    'Goa': 0.013,       # INR to USD\n",
    "    'Kites': 0.013      # INR to USD\n",
    "}\n",
    "\n",
    "# Iterate through the DataFrame to adjust budgets for known discrepancies\n",
    "for index, row in imdb_2010_df.iterrows():\n",
    "    title = row['title']\n",
    "    if title in currency_adjustments:\n",
    "        conversion_rate = currency_adjustments[title]\n",
    "        imdb_2010_df.loc[index, 'budget'] = row['budget'] * conversion_rate\n",
    "\n",
    "# Display the adjusted budgets for the specified movies\n",
    "adjusted_titles = list(currency_adjustments.keys())\n",
    "adjusted_budgets_df = imdb_2010_df[imdb_2010_df['title'].isin(adjusted_titles)][['title', 'budget', 'release_date']]\n",
    "print(\"\\nAdjusted Budgets for Identified Movies:\")\n",
    "print(adjusted_budgets_df)"
   ]
  },
  {
   "cell_type": "code",
   "execution_count": 34,
   "metadata": {},
   "outputs": [
    {
     "name": "stdout",
     "output_type": "stream",
     "text": [
      "Requirement already satisfied: pymongo in c:\\users\\business\\appdata\\local\\programs\\python\\python312\\lib\\site-packages (4.10.1)Note: you may need to restart the kernel to use updated packages.\n",
      "\n",
      "Requirement already satisfied: dnspython<3.0.0,>=1.16.0 in c:\\users\\business\\appdata\\local\\programs\\python\\python312\\lib\\site-packages (from pymongo) (2.7.0)\n",
      "Requirement already satisfied: certifi in c:\\users\\business\\appdata\\local\\programs\\python\\python312\\lib\\site-packages (2024.8.30)\n",
      "Note: you may need to restart the kernel to use updated packages.\n"
     ]
    }
   ],
   "source": [
    "%pip install pymongo\n",
    "%pip install certifi"
   ]
  },
  {
   "cell_type": "markdown",
   "metadata": {},
   "source": [
    "*** Outliers Explanation\n",
    "The analysis identified several notable outliers in terms of both budget and runtime for movies released in 2010.\n",
    "\n",
    "*Budget Outliers\n",
    "The highest budget outliers include Enthiran ($1.9 billion), Poetry ($1.3 billion), Goa ($900 million), and Kites ($600 million). These figures initially appeared inflated due to currency conversion issues. The dataset recorded the budgets in local currencies (e.g., INR for India, KRW for Korea), which resulted in inconsistencies. Howhwver in their own countries, Enthiran, Goa, and Kites showcase significant domestic investments in Indian cinema, while Poetry represents a substantial budget within the Korean market. At the same time, we can see low budjet Movie, such as Ceremony, casting Uma Turman and having low rating.\n",
    "\n",
    "*Runtime Outliers\n",
    "Among the runtime outliers, Ayirathil Oruvan (183 minutes), Burnt by the Sun 2 (181 minutes), and The Autobiography of Nicolae Ceausescu (180 minutes) are unusually long compared to the average film length in 2010. These longer runtimes are typically associated with epic narratives or documentaries, which often require more extended screen time to cover complex stories. The shortest runtimes are primarily for documentaries and short films, aligning with expectations.\n",
    "\n",
    "Conclusion\n",
    "The identified outliers reflect variability in global filmmaking practices, with longer runtimes aligning with specific genres or cultural storytelling traditions, while budget discrepancies were primarily due to initial mislabeling of currencies.\n",
    "\n",
    "For improved accuracy, we need to check initial sourse of data and use better currency conversion methods and comprehensive metadata verification should be applied to prevent such discrepancies in future datasets. These measures could help distinguish genuine budget outliers from conversion errors, enhancing overall data integrity and analysis reliability.\n"
   ]
  }
 ],
 "metadata": {
  "kernelspec": {
   "display_name": "Python 3",
   "language": "python",
   "name": "python3"
  },
  "language_info": {
   "codemirror_mode": {
    "name": "ipython",
    "version": 3
   },
   "file_extension": ".py",
   "mimetype": "text/x-python",
   "name": "python",
   "nbconvert_exporter": "python",
   "pygments_lexer": "ipython3",
   "version": "3.12.6"
  }
 },
 "nbformat": 4,
 "nbformat_minor": 2
}
